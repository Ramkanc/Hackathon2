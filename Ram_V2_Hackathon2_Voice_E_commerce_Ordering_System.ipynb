{
  "nbformat": 4,
  "nbformat_minor": 0,
  "metadata": {
    "colab": {
      "provenance": [],
      "include_colab_link": true
    },
    "language_info": {
      "codemirror_mode": {
        "name": "ipython",
        "version": 3
      },
      "file_extension": ".py",
      "mimetype": "text/x-python",
      "name": "python",
      "nbconvert_exporter": "python",
      "pygments_lexer": "ipython3",
      "version": "3.5.0"
    },
    "kernelspec": {
      "display_name": "Python 3",
      "name": "python3"
    }
  },
  "cells": [
    {
      "cell_type": "markdown",
      "metadata": {
        "id": "view-in-github",
        "colab_type": "text"
      },
      "source": [
        "<a href=\"https://colab.research.google.com/github/Ramkanc/Hackathon2/blob/main/Ram_V2_Hackathon2_Voice_E_commerce_Ordering_System.ipynb\" target=\"_parent\"><img src=\"https://colab.research.google.com/assets/colab-badge.svg\" alt=\"Open In Colab\"/></a>"
      ]
    },
    {
      "cell_type": "markdown",
      "metadata": {
        "id": "SZIubkln0AI2"
      },
      "source": [
        "# Advanced Certification in AIML\n",
        "## A Program by IIIT-H and TalentSprint"
      ]
    },
    {
      "cell_type": "code",
      "metadata": {
        "id": "Alui-GbzEBtW",
        "colab": {
          "base_uri": "https://localhost:8080/",
          "height": 422
        },
        "outputId": "14f109bc-6780-4425-ea6c-9d719c549760"
      },
      "source": [
        "#@title Explanation Video\n",
        "from IPython.display import HTML\n",
        "\n",
        "HTML(\"\"\"<video width=\"720\" and height=\"400\" controls>\n",
        "  <source src=\"https://cdn.iiith.talentsprint.com/aiml/Experiment_related_data/Walkthrough/Hackathon_Voice_based.mp4\" type=\"video/mp4\">\n",
        "</video>\n",
        "\"\"\")"
      ],
      "execution_count": null,
      "outputs": [
        {
          "output_type": "execute_result",
          "data": {
            "text/plain": [
              "<IPython.core.display.HTML object>"
            ],
            "text/html": [
              "<video width=\"720\" and height=\"400\" controls>\n",
              "  <source src=\"https://cdn.iiith.talentsprint.com/aiml/Experiment_related_data/Walkthrough/Hackathon_Voice_based.mp4\" type=\"video/mp4\">\n",
              "</video>\n"
            ]
          },
          "metadata": {},
          "execution_count": 1
        }
      ]
    },
    {
      "cell_type": "markdown",
      "metadata": {
        "id": "4LNbxek40AI4"
      },
      "source": [
        "# Hackathon: Voice commands based E-commerce ordering system\n",
        "The goal of the hackathon is to train your model on different types of voice data (such as studio data and your own team data) and able to place order based on user preferences."
      ]
    },
    {
      "cell_type": "markdown",
      "metadata": {
        "id": "Fms7Yt7byCuQ"
      },
      "source": [
        "## Grading = 40 Marks"
      ]
    },
    {
      "cell_type": "markdown",
      "metadata": {
        "id": "zUtVl7cBHlIh"
      },
      "source": [
        "### **Objectives:**\n",
        "\n",
        "Stage 0 - Obtain Features from Audio samples\n",
        "\n",
        "Stage 1 (22 Marks) - Define and train a CNN model on Studio data and deploy the model in the server\n",
        "\n",
        "Stage 2 (18 Marks) - Collect your voice samples (team data) and refine the classifier trained on Studio_data. Deploy the model in the server."
      ]
    },
    {
      "cell_type": "markdown",
      "metadata": {
        "id": "BYm_60PiPSsq"
      },
      "source": [
        "## Dataset Description"
      ]
    },
    {
      "cell_type": "markdown",
      "metadata": {
        "id": "qiAu1XJx3lCJ"
      },
      "source": [
        "The data contains voice samples of classes - Zero, One, Two, Three, Four, Five. Each class is denoted by a numerical label from 0 to 5.\n",
        "\n",
        "The audio files collected in a Studio dataset contain very few noise samples and all the files are in wav format.\n",
        "\n",
        "The audio files recorded for the studio are saved with the following naming convention:\n",
        "\n",
        "● Class Representation + user_id + sample_ID (or noise + sample_ID)\n",
        "\n",
        "> For example: The voice sample by the user b2 recorded “Zero”, it is saved as 0_b2_35.wav. Here 35 is sample ID, 2 is the user id and ‘0’ is the label of that sample.\n",
        "\n",
        "\n"
      ]
    },
    {
      "cell_type": "code",
      "metadata": {
        "id": "Kv0xxq_d0Qb_",
        "colab": {
          "base_uri": "https://localhost:8080/"
        },
        "outputId": "4e98a8a7-05c1-4450-c800-9dd89ce3dda3"
      },
      "source": [
        "#@title Please run the setup to download the dataset\n",
        "\n",
        "from IPython import get_ipython\n",
        "ipython = get_ipython()\n",
        "\n",
        "notebook= \"Hackathon2 - Voice E-commerce Ordering System\" #name of the notebook\n",
        "\n",
        "def setup():\n",
        "    ipython.magic(\"sx wget https://cdn.iiith.talentsprint.com/aiml/Hackathon_data/B17_studio_rev_data.zip\")\n",
        "    ipython.magic(\"sx unzip B17_studio_rev_data.zip \")\n",
        "    print (\"Setup completed successfully\")\n",
        "\n",
        "setup()"
      ],
      "execution_count": null,
      "outputs": [
        {
          "output_type": "stream",
          "name": "stdout",
          "text": [
            "Setup completed successfully\n"
          ]
        }
      ]
    },
    {
      "cell_type": "code",
      "metadata": {
        "id": "DqNBNvC25WNV"
      },
      "source": [
        "import os\n",
        "import sys\n",
        "import glob\n",
        "import torch\n",
        "import librosa\n",
        "import warnings\n",
        "import numpy as np\n",
        "import torch.nn as nn\n",
        "from time import sleep\n",
        "from torch import optim\n",
        "import torch.nn.functional as F\n",
        "from torch.autograd import Variable\n",
        "warnings.filterwarnings('ignore')"
      ],
      "execution_count": null,
      "outputs": []
    },
    {
      "cell_type": "markdown",
      "metadata": {
        "id": "lEg2PYXrOjnZ"
      },
      "source": [
        "## **Stage 0:** Obtain Features from Audio samples\n",
        "---\n",
        "\n",
        "### Generate features from an audio sample of '.wav' format\n",
        "- Code is available to extract the features"
      ]
    },
    {
      "cell_type": "code",
      "metadata": {
        "id": "eTtb2zAj5k0-"
      },
      "source": [
        "# Caution: Do not change the default parameters\n",
        "def get_features(filepath, sr=8000, n_mfcc=30, n_mels=128, frames = 15):\n",
        "    # The following function contains code to produce features of the audio sample.\n",
        "    y, sr = librosa.load(filepath, sr=sr)\n",
        "    D = np.abs(librosa.stft(y))**2\n",
        "    S = librosa.feature.melspectrogram(S=D)\n",
        "    S = librosa.feature.melspectrogram(y=y, sr=sr, n_mels=n_mels)\n",
        "    log_S = librosa.power_to_db(S,ref=np.max)\n",
        "    features = librosa.feature.mfcc(S=log_S, n_mfcc=n_mfcc)\n",
        "    if features.shape[1] < frames :\n",
        "        features = np.hstack((features, np.zeros((n_mfcc, frames - features.shape[1]))))\n",
        "    elif features.shape[1] > frames:\n",
        "        features = features[:, :frames]\n",
        "\n",
        "    # Find 1st order delta_mfcc\n",
        "    delta1_mfcc = librosa.feature.delta(features, order=1)\n",
        "\n",
        "    # Find 2nd order delta_mfcc\n",
        "    delta2_mfcc = librosa.feature.delta(features, order=2)\n",
        "\n",
        "    # Stacking delta_mfcc features in sequence horizontally (column wise)\n",
        "    features = np.hstack((delta1_mfcc.flatten(), delta2_mfcc.flatten()))\n",
        "\n",
        "    # Increase the dimension by inserting an axis along second dimension\n",
        "    features = features.flatten()[:,np.newaxis]\n",
        "\n",
        "    # Convert the numpy.ndarray to a Tensor object\n",
        "    features = Variable(torch.from_numpy(features)).float()\n",
        "    return features"
      ],
      "execution_count": null,
      "outputs": []
    },
    {
      "cell_type": "markdown",
      "metadata": {
        "id": "NhLFY4n6BwIj"
      },
      "source": [
        "All the voice samples needed for training are present in the folder `\"studio_data\"`"
      ]
    },
    {
      "cell_type": "code",
      "metadata": {
        "id": "lMF1AqHZhl1h",
        "colab": {
          "base_uri": "https://localhost:8080/"
        },
        "outputId": "e9664b71-9130-4aec-fcfc-acde58610f11"
      },
      "source": [
        "%ls"
      ],
      "execution_count": null,
      "outputs": [
        {
          "output_type": "stream",
          "name": "stdout",
          "text": [
            "B17_studio_rev_data.zip  \u001b[0m\u001b[01;34msample_data\u001b[0m/  \u001b[01;34mstudio_data\u001b[0m/\n"
          ]
        }
      ]
    },
    {
      "cell_type": "markdown",
      "metadata": {
        "id": "a2AAbFp5KORl"
      },
      "source": [
        "##**Stage 1**:  Define and train a CNN model on Studio data and deploy the model in the server\n",
        "\n",
        "---\n"
      ]
    },
    {
      "cell_type": "markdown",
      "metadata": {
        "id": "SB-LowDuCMUL"
      },
      "source": [
        "### a) Extract features of Studio data (4 Marks)\n",
        "\n",
        " Load 'Studio data' and extract mfcc features\n",
        "\n",
        " **Evaluation Criteria:**\n",
        "\n",
        " * Complete the code in the load_data function\n",
        " * The function should take path of the folder containing audio samples as input\n",
        " * It should return features of all the audio samples present in the specified folder into single array (list of lists or 2-d numpy array) and their respective labels should be returned too"
      ]
    },
    {
      "cell_type": "code",
      "metadata": {
        "id": "qDzCa-532EUj"
      },
      "source": [
        "#def load_data(folder_path):\n",
        "    #YOUR CODE HERE\n",
        "    #return features, labels"
      ],
      "execution_count": null,
      "outputs": []
    },
    {
      "cell_type": "code",
      "source": [
        "def load_data(folder_path):\n",
        "    features = []\n",
        "    labels = []\n",
        "    for filename in os.listdir(folder_path):\n",
        "        if filename.endswith(\".wav\"):\n",
        "            filepath = os.path.join(folder_path, filename)\n",
        "            label = int(filename.split(\"_\")[0])\n",
        "            feature = get_features(filepath)\n",
        "            features.append(feature)\n",
        "            labels.append(label)\n",
        "    return features, labels"
      ],
      "metadata": {
        "id": "zo67Rrr-MJyu"
      },
      "execution_count": null,
      "outputs": []
    },
    {
      "cell_type": "markdown",
      "metadata": {
        "id": "7673ezpxFEfM"
      },
      "source": [
        "Load data from studio_data folder for extracting all features and labels"
      ]
    },
    {
      "cell_type": "code",
      "metadata": {
        "id": "u5CjrlPVPjNs"
      },
      "source": [
        "studio_recorded_features, studio_recorded_labels = load_data('/content/studio_data')\n"
      ],
      "execution_count": null,
      "outputs": []
    },
    {
      "cell_type": "code",
      "source": [
        "#Applying normalization\n",
        "#studio_recorded_features = F.normalize(torch.stack(studio_recorded_features), p=2,  dim=1)"
      ],
      "metadata": {
        "id": "27d5Ox8vudvv"
      },
      "execution_count": null,
      "outputs": []
    },
    {
      "cell_type": "markdown",
      "metadata": {
        "id": "krshAu69Hy8-"
      },
      "source": [
        "Use train_test_split for splitting the train and test data"
      ]
    },
    {
      "cell_type": "code",
      "metadata": {
        "id": "0LV83ruiHvfO"
      },
      "source": [
        "from sklearn.model_selection import train_test_split\n",
        "# YOUR CODE HERE\n",
        "\n",
        "X_train, X_test, y_train, y_test = train_test_split(studio_recorded_features, studio_recorded_labels, test_size=0.2, random_state=42)"
      ],
      "execution_count": null,
      "outputs": []
    },
    {
      "cell_type": "markdown",
      "metadata": {
        "id": "43M0H5Z23rnh"
      },
      "source": [
        "Load the dataset with DataLoader\n",
        "- Refer to [torch.utils.data.TensorDataset](https://pytorch.org/docs/stable/data.html#torch.utils.data.TensorDataset)\n",
        "- Refer to [torch.utils.data.DataLoader](https://pytorch.org/docs/stable/data.html#torch.utils.data.DataLoader)"
      ]
    },
    {
      "cell_type": "code",
      "source": [
        "from torch.utils.data import TensorDataset, DataLoader\n",
        "\n",
        "train_data = TensorDataset(torch.stack(X_train), torch.tensor(y_train)) # torch.stack"
      ],
      "metadata": {
        "id": "7jwZ5DRGOXgA"
      },
      "execution_count": null,
      "outputs": []
    },
    {
      "cell_type": "code",
      "metadata": {
        "id": "ls6gI08XH2ak"
      },
      "source": [
        "# YOUR CODE HERE for the DataLoader\n",
        "train_loader = DataLoader(train_data, batch_size=32, shuffle=True)"
      ],
      "execution_count": null,
      "outputs": []
    },
    {
      "cell_type": "code",
      "source": [
        "# print tensor sizes of train_loader\n",
        "for batch_idx, (data, target) in enumerate(train_loader):\n",
        "  print(\"Data tensor size:\", data.size())\n",
        "  print(\"Target tensor size:\", target.size())\n",
        "  print(data[0].shape, \"\\n\", max(data[0]), min(data[0]))\n",
        "  break"
      ],
      "metadata": {
        "colab": {
          "base_uri": "https://localhost:8080/"
        },
        "id": "-STWlzZadeVV",
        "outputId": "9edd1fd3-aa8d-48b8-a364-7b49319f8528"
      },
      "execution_count": null,
      "outputs": [
        {
          "output_type": "stream",
          "name": "stdout",
          "text": [
            "Data tensor size: torch.Size([32, 900, 1])\n",
            "Target tensor size: torch.Size([32])\n",
            "torch.Size([900, 1]) \n",
            " tensor([69.0408]) tensor([-19.6773])\n"
          ]
        }
      ]
    },
    {
      "cell_type": "markdown",
      "metadata": {
        "id": "BGq6XpvhFynP"
      },
      "source": [
        "### b) Define your CNN architecture (4 Marks)\n",
        "\n",
        "[Hint](https://pytorch.org/docs/stable/generated/torch.nn.Conv1d.html)"
      ]
    },
    {
      "cell_type": "code",
      "metadata": {
        "id": "VU5hdERsFw5o"
      },
      "source": [
        "## Define your CNN Architecture\n",
        "class Net(nn.Module):\n",
        "    def __init__(self):\n",
        "        super(Net, self).__init__()\n",
        "\n",
        "        # Sample Convolution Layer 1\n",
        "        self.conv1 = nn.Conv1d(in_channels=900, out_channels=512, kernel_size=1)#,stride=1, padding=2)\n",
        "        self.bn1 = nn.BatchNorm1d(512)\n",
        "        self.relu1 = nn.ReLU()\n",
        "        # Sample Maxpool for the Convolutional Layer 1\n",
        "        self.maxpool1 = nn.MaxPool1d(1)\n",
        "        # Sample Dropout Layer\n",
        "        #self.dropout = nn.Dropout(p=0.1)\n",
        "\n",
        "        # YOUR CODE HERE for defining more number of Convolutional layers with Maxpool as required (Hint: Use at least 2 more convolutional layers for better performance)\n",
        "\n",
        "        #Convolution Layer 2\n",
        "        self.conv2 = nn.Conv1d(in_channels=512, out_channels=356, kernel_size=1)\n",
        "        self.bn2 = nn.BatchNorm1d(356)\n",
        "        self.relu2 = nn.ReLU()\n",
        "        self.maxpool2 = nn.MaxPool1d(1)\n",
        "        self.dropout = nn.Dropout(p=0.1)\n",
        "        # Convolution Layer 3\n",
        "        self.conv3 = nn.Conv1d(in_channels=356, out_channels=136, kernel_size=1)\n",
        "        self.bn3 = nn.BatchNorm1d(136)\n",
        "        self.relu3 = nn.ReLU()\n",
        "        self.maxpool3 = nn.MaxPool1d(1)\n",
        "\n",
        "\n",
        "        # YOUR CODE HERE for defining the Fully Connected Layer and also define LogSoftmax\n",
        "\n",
        "\n",
        "        # Fully Connected Layer\n",
        "        self.fc1 = nn.Linear(136, 10)\n",
        "        self.logsoftmax = nn.LogSoftmax(dim=1)\n",
        "\n",
        "    def forward(self, x):\n",
        "        # Convolution Layer 1, Maxpool and Dropout\n",
        "        out = self.conv1(x)\n",
        "        out = self.bn1(out)\n",
        "        out = self.relu1(out)\n",
        "        out = self.maxpool1(out)\n",
        "        #out = self.dropout(out)\n",
        "        # YOUR CODE HERE for the Convolutional Layers and Maxpool based on the defined Convolutional layers\n",
        "\n",
        "        #Convolution Layer 2\n",
        "        out = self.conv2(out)\n",
        "        out = self.bn2(out)\n",
        "        out = self.relu2(out)\n",
        "        out = self.maxpool2(out)\n",
        "        out = self.dropout(out)\n",
        "        # Convolution Layer 3\n",
        "        out = self.conv3(out)\n",
        "        out = self.bn3(out)\n",
        "        out = self.relu3(out)\n",
        "        out = self.maxpool3(out)\n",
        "\n",
        "        # YOUR CODE HERE for flattening the output of the final pooling layer to a vector. Flattening is simply arranging the 3D volume of numbers into a 1D vector\n",
        "        # Flatten the output of the last pooling layer\n",
        "        #print(\"Size after conv3: \",out.shape)\n",
        "        out = out.view(out.size(0), -1)\n",
        "        #print(\"Size after flatten: \",out.shape)\n",
        "\n",
        "        # YOUR CODE HERE for returning the output of LogSoftmax after applying Fully Connected Layer\n",
        "        # Fully Connected Layer and LogSoftmax\n",
        "        out = self.fc1(out)\n",
        "        out = self.logsoftmax(out)\n",
        "\n",
        "        return out"
      ],
      "execution_count": null,
      "outputs": []
    },
    {
      "cell_type": "code",
      "metadata": {
        "id": "1OFWuGmq05ZK",
        "colab": {
          "base_uri": "https://localhost:8080/"
        },
        "outputId": "684646c5-2553-4f4b-db9e-6e12ac8dd3c8"
      },
      "source": [
        "# To run the training on GPU\n",
        "device = torch.device(\"cuda\" if torch.cuda.is_available() else \"cpu\")\n",
        "print(device)"
      ],
      "execution_count": null,
      "outputs": [
        {
          "output_type": "stream",
          "name": "stdout",
          "text": [
            "cpu\n"
          ]
        }
      ]
    },
    {
      "cell_type": "code",
      "metadata": {
        "id": "Wkt8lKQtCIWD",
        "colab": {
          "base_uri": "https://localhost:8080/"
        },
        "outputId": "69f4e1d9-4da2-4ae4-cb88-f32c9afa6a48"
      },
      "source": [
        "model = Net()\n",
        "model = model.to(device)\n",
        "print(model)\n",
        "\n",
        "#criterion = # YOUR CODE HERE : Explore and declare loss function\n",
        "criterion = nn.CrossEntropyLoss()\n",
        "#optimizer = # YOUR CODE HERE : Explore on the optimizer and define with the learning rate\n",
        "optimizer = optim.Adam(model.parameters(), lr=0.001)\n",
        "schedulaer = optim.lr_scheduler.ReduceLROnPlateau(optimizer, mode='min', factor=0.5, patience=2, verbose=True, min_lr=1e-6)"
      ],
      "execution_count": null,
      "outputs": [
        {
          "output_type": "stream",
          "name": "stdout",
          "text": [
            "Net(\n",
            "  (conv1): Conv1d(900, 512, kernel_size=(1,), stride=(1,))\n",
            "  (bn1): BatchNorm1d(512, eps=1e-05, momentum=0.1, affine=True, track_running_stats=True)\n",
            "  (relu1): ReLU()\n",
            "  (maxpool1): MaxPool1d(kernel_size=1, stride=1, padding=0, dilation=1, ceil_mode=False)\n",
            "  (conv2): Conv1d(512, 356, kernel_size=(1,), stride=(1,))\n",
            "  (bn2): BatchNorm1d(356, eps=1e-05, momentum=0.1, affine=True, track_running_stats=True)\n",
            "  (relu2): ReLU()\n",
            "  (maxpool2): MaxPool1d(kernel_size=1, stride=1, padding=0, dilation=1, ceil_mode=False)\n",
            "  (dropout): Dropout(p=0.1, inplace=False)\n",
            "  (conv3): Conv1d(356, 136, kernel_size=(1,), stride=(1,))\n",
            "  (bn3): BatchNorm1d(136, eps=1e-05, momentum=0.1, affine=True, track_running_stats=True)\n",
            "  (relu3): ReLU()\n",
            "  (maxpool3): MaxPool1d(kernel_size=1, stride=1, padding=0, dilation=1, ceil_mode=False)\n",
            "  (fc1): Linear(in_features=136, out_features=10, bias=True)\n",
            "  (logsoftmax): LogSoftmax(dim=1)\n",
            ")\n"
          ]
        }
      ]
    },
    {
      "cell_type": "code",
      "source": [
        "from torchsummary import summary"
      ],
      "metadata": {
        "id": "PfyBdoGXSh7q"
      },
      "execution_count": null,
      "outputs": []
    },
    {
      "cell_type": "code",
      "source": [
        "summary(model, (900, 1))"
      ],
      "metadata": {
        "colab": {
          "base_uri": "https://localhost:8080/"
        },
        "id": "dfTE4yiOSrKl",
        "outputId": "646cca02-a765-480b-e5b8-03239ab3a9d4"
      },
      "execution_count": null,
      "outputs": [
        {
          "output_type": "stream",
          "name": "stdout",
          "text": [
            "----------------------------------------------------------------\n",
            "        Layer (type)               Output Shape         Param #\n",
            "================================================================\n",
            "            Conv1d-1               [-1, 512, 1]         461,312\n",
            "       BatchNorm1d-2               [-1, 512, 1]           1,024\n",
            "              ReLU-3               [-1, 512, 1]               0\n",
            "         MaxPool1d-4               [-1, 512, 1]               0\n",
            "            Conv1d-5               [-1, 356, 1]         182,628\n",
            "       BatchNorm1d-6               [-1, 356, 1]             712\n",
            "              ReLU-7               [-1, 356, 1]               0\n",
            "         MaxPool1d-8               [-1, 356, 1]               0\n",
            "           Dropout-9               [-1, 356, 1]               0\n",
            "           Conv1d-10               [-1, 136, 1]          48,552\n",
            "      BatchNorm1d-11               [-1, 136, 1]             272\n",
            "             ReLU-12               [-1, 136, 1]               0\n",
            "        MaxPool1d-13               [-1, 136, 1]               0\n",
            "           Linear-14                   [-1, 10]           1,370\n",
            "       LogSoftmax-15                   [-1, 10]               0\n",
            "================================================================\n",
            "Total params: 695,870\n",
            "Trainable params: 695,870\n",
            "Non-trainable params: 0\n",
            "----------------------------------------------------------------\n",
            "Input size (MB): 0.00\n",
            "Forward/backward pass size (MB): 0.03\n",
            "Params size (MB): 2.65\n",
            "Estimated Total Size (MB): 2.69\n",
            "----------------------------------------------------------------\n"
          ]
        }
      ]
    },
    {
      "cell_type": "markdown",
      "metadata": {
        "id": "T5nF5pwKQ2t1"
      },
      "source": [
        "### c) Train and classify on the studio_data (3 Marks)\n",
        "\n",
        "The goal here is to train the Model on voice samples collected in studio data and validate it continuously to calculate the loss and accuracy for the train dataset across each epoch.\n",
        "\n",
        "Iterate over images in the train_loader and perform the following steps.\n",
        "\n",
        "1. First, zero out the gradients using zero_grad()\n",
        "\n",
        "2. Pass the data to the model. Convert the data to GPU before passing data  to the model\n",
        "\n",
        "3. Calculate the loss using a Loss function\n",
        "\n",
        "4. Perform Backward pass using backward() to update the weights\n",
        "\n",
        "5. Optimize and predict by using the torch.max()\n",
        "\n",
        "6. Calculate the accuracy of the train dataset\n"
      ]
    },
    {
      "cell_type": "code",
      "metadata": {
        "id": "2Ot89MxKavVy"
      },
      "source": [
        "# YOUR CODE HERE. This will take time\n",
        "\n",
        "# Record loss and accuracy of the train dataset"
      ],
      "execution_count": null,
      "outputs": []
    },
    {
      "cell_type": "code",
      "source": [
        "# First, zero out the gradients using zero_grad()\n",
        "# Pass the data to the model. Convert the data to GPU before passing data to the model\n",
        "# Calculate the loss using a Loss function\n",
        "# Perform Backward pass using backward() to update the weights\n",
        "# Optimize and predict by using the torch.max()\n",
        "# Calculate the accuracy of the train dataset\n",
        "\n",
        "num_epochs = 25\n",
        "\n",
        "train_losses, train_accuracis = [], []\n",
        "\n",
        "for epoch in range(num_epochs):\n",
        "    train_loss = 0.0\n",
        "    train_correct = 0\n",
        "    train_total = 0\n",
        "\n",
        "    for batch_idx, (data, target) in enumerate(train_loader):\n",
        "        data, target = data.to(device), target.to(device)\n",
        "\n",
        "        # Zero out the gradients\n",
        "        optimizer.zero_grad()\n",
        "\n",
        "        # Pass the data to the model\n",
        "        outputs = model(data)\n",
        "\n",
        "        # Calculate the loss\n",
        "        loss = criterion(outputs, target)\n",
        "\n",
        "        # Perform backward pass\n",
        "        loss.backward()\n",
        "\n",
        "        # Optimize\n",
        "        optimizer.step()\n",
        "\n",
        "        # Predict\n",
        "        _, predicted = torch.max(outputs.data, 1)\n",
        "\n",
        "        # Calculate accuracy\n",
        "        train_total += target.size(0)\n",
        "        train_correct += (predicted == target).sum().item()\n",
        "        train_loss += loss.item()\n",
        "\n",
        "    train_accuracy = 100 * train_correct / train_total\n",
        "    train_loss /= len(train_loader)\n",
        "    train_losses.append(train_loss)\n",
        "    train_accuracis.append(train_accuracy)\n",
        "    schedulaer.step(train_loss)\n",
        "    # Print the loss and accuracy for the epoch\n",
        "    print(f\"Epoch [{epoch+1}/{num_epochs}], Train Loss: {train_loss:.4f}, Train Accuracy: {train_accuracy:.2f}%, Learning rate {optimizer.param_groups[0]['lr']}\")\n"
      ],
      "metadata": {
        "colab": {
          "base_uri": "https://localhost:8080/"
        },
        "id": "il4OSTgHecZl",
        "outputId": "1ae05e13-b4a1-47d7-a2bb-2e64db83d262"
      },
      "execution_count": null,
      "outputs": [
        {
          "output_type": "stream",
          "name": "stdout",
          "text": [
            "Epoch [1/25], Train Loss: 1.1803, Train Accuracy: 59.57%, Learning rate 0.001\n",
            "Epoch [2/25], Train Loss: 0.6728, Train Accuracy: 76.63%, Learning rate 0.001\n",
            "Epoch [3/25], Train Loss: 0.5240, Train Accuracy: 81.72%, Learning rate 0.001\n",
            "Epoch [4/25], Train Loss: 0.4331, Train Accuracy: 84.73%, Learning rate 0.001\n",
            "Epoch [5/25], Train Loss: 0.3829, Train Accuracy: 86.27%, Learning rate 0.001\n",
            "Epoch [6/25], Train Loss: 0.3253, Train Accuracy: 88.60%, Learning rate 0.001\n",
            "Epoch [7/25], Train Loss: 0.2999, Train Accuracy: 89.70%, Learning rate 0.001\n",
            "Epoch [8/25], Train Loss: 0.2196, Train Accuracy: 92.37%, Learning rate 0.001\n",
            "Epoch [9/25], Train Loss: 0.2170, Train Accuracy: 92.15%, Learning rate 0.001\n",
            "Epoch [10/25], Train Loss: 0.1908, Train Accuracy: 93.40%, Learning rate 0.001\n",
            "Epoch [11/25], Train Loss: 0.1558, Train Accuracy: 94.50%, Learning rate 0.001\n",
            "Epoch [12/25], Train Loss: 0.1853, Train Accuracy: 93.15%, Learning rate 0.001\n",
            "Epoch [13/25], Train Loss: 0.1333, Train Accuracy: 95.70%, Learning rate 0.001\n",
            "Epoch [14/25], Train Loss: 0.1567, Train Accuracy: 94.22%, Learning rate 0.001\n",
            "Epoch [15/25], Train Loss: 0.1260, Train Accuracy: 95.44%, Learning rate 0.001\n",
            "Epoch [16/25], Train Loss: 0.1008, Train Accuracy: 96.83%, Learning rate 0.001\n",
            "Epoch [17/25], Train Loss: 0.1312, Train Accuracy: 95.66%, Learning rate 0.001\n",
            "Epoch [18/25], Train Loss: 0.1405, Train Accuracy: 94.97%, Learning rate 0.001\n",
            "Epoch [19/25], Train Loss: 0.0875, Train Accuracy: 97.39%, Learning rate 0.001\n",
            "Epoch [20/25], Train Loss: 0.0876, Train Accuracy: 96.83%, Learning rate 0.001\n",
            "Epoch [21/25], Train Loss: 0.0838, Train Accuracy: 97.20%, Learning rate 0.001\n",
            "Epoch [22/25], Train Loss: 0.0697, Train Accuracy: 97.52%, Learning rate 0.001\n",
            "Epoch [23/25], Train Loss: 0.0801, Train Accuracy: 97.27%, Learning rate 0.001\n",
            "Epoch [24/25], Train Loss: 0.0692, Train Accuracy: 97.64%, Learning rate 0.001\n",
            "Epoch [25/25], Train Loss: 0.0697, Train Accuracy: 97.42%, Learning rate 0.001\n"
          ]
        }
      ]
    },
    {
      "cell_type": "code",
      "source": [
        "# plot trainloss vs train accuracy curve\n",
        "\n",
        "import matplotlib.pyplot as plt\n",
        "\n",
        "\n",
        "epochs = range(1, num_epochs + 1)\n",
        "\n",
        "plt.figure(figsize=(10, 5))\n",
        "plt.plot(epochs, train_losses, label='Train Loss')\n",
        "plt.plot(epochs, train_accuracis, label='Train Accuracy')\n",
        "plt.xlabel('Epoch')\n",
        "plt.ylabel('Value')\n",
        "plt.title('Train Loss vs Train Accuracy')\n",
        "plt.legend()\n",
        "plt.grid(True)\n",
        "plt.show()\n"
      ],
      "metadata": {
        "colab": {
          "base_uri": "https://localhost:8080/",
          "height": 487
        },
        "id": "9dANwt13RxpX",
        "outputId": "41ba639a-d1ad-4779-e78f-bd844dcfc3ab"
      },
      "execution_count": null,
      "outputs": [
        {
          "output_type": "display_data",
          "data": {
            "text/plain": [
              "<Figure size 1000x500 with 1 Axes>"
            ],
            "image/png": "[encoded data removed]"
          },
          "metadata": {}
        }
      ]
    },
    {
      "cell_type": "markdown",
      "metadata": {
        "id": "K5BJIQzgHa0k"
      },
      "source": [
        "### d) Testing Evaluation for CNN model (3 Marks)\n",
        "\n",
        "Evaluate model with the given test data\n",
        "\n",
        "1. Transform and load the test images.\n",
        "\n",
        "2. Pass the test data through the model (network) to get the outputs\n",
        "\n",
        "3. Get the predictions from a maximum value using torch.max\n",
        "\n",
        "4. Compare with the actual labels and get the count of the correct labels\n",
        "\n",
        "5. Calculate the accuracy based on the count of correct labels\n",
        "\n",
        "### **Expected testing accuracy is above 80%**"
      ]
    },
    {
      "cell_type": "code",
      "metadata": {
        "id": "RnKZ-gP-30xR"
      },
      "source": [
        "# YOUR CODE HERE to test the model\n",
        "test_data = TensorDataset(torch.stack(X_test), torch.tensor(y_test))\n",
        "test_loader = DataLoader(test_data, batch_size=32, shuffle=False)"
      ],
      "execution_count": null,
      "outputs": []
    },
    {
      "cell_type": "code",
      "source": [
        "# Transform and load the test data.\n",
        "# Pass the test data through the model (network) to get the outputs\n",
        "# Get the predictions from a maximum value using torch.max\n",
        "# Compare with the actual labels and get the count of the correct labels\n",
        "# Calculate the accuracy based on the count of correct labels\n",
        "\n",
        "model.eval()  # Set the model to evaluation mode\n",
        "correct = 0\n",
        "total = 0\n",
        "\n",
        "with torch.no_grad():\n",
        "    for data, target in test_loader:\n",
        "        data, target = data.to(device), target.to(device)\n",
        "        outputs = model(data)\n",
        "        _, predicted = torch.max(outputs.data, 1)\n",
        "        total += target.size(0)\n",
        "        correct += (predicted == target).sum().item()\n",
        "\n",
        "test_accuracy = 100 * correct / total\n",
        "print(f\"Test Accuracy: {test_accuracy:.2f}%\")\n"
      ],
      "metadata": {
        "colab": {
          "base_uri": "https://localhost:8080/"
        },
        "id": "SjnBsVZmgOS4",
        "outputId": "5aaf48ec-d4ad-49ae-be2d-0f9bf1b24102"
      },
      "execution_count": null,
      "outputs": [
        {
          "output_type": "stream",
          "name": "stdout",
          "text": [
            "Test Accuracy: 84.55%\n"
          ]
        }
      ]
    },
    {
      "cell_type": "markdown",
      "metadata": {
        "id": "qqIP3Y17byDq"
      },
      "source": [
        "### e) Save and download your model (2 Marks)\n",
        "\n",
        "**Save your model trained on studio data**\n",
        "\n",
        "* Save the state dictionary of the classifier (use pytorch only), It will be useful in\n",
        "integrating model to the web application\n",
        "\n",
        " [Hint](https://pytorch.org/tutorials/beginner/saving_loading_models.html)"
      ]
    },
    {
      "cell_type": "code",
      "metadata": {
        "id": "A7KAIpLsI4Uj"
      },
      "source": [
        "### YOUR CODE HERE for saving the CNN model\n",
        "torch.save(model.state_dict(), 'studio_model.pth')"
      ],
      "execution_count": null,
      "outputs": []
    },
    {
      "cell_type": "markdown",
      "metadata": {
        "id": "jsCHKXubHAJB"
      },
      "source": [
        "Download your trained model using the code below\n",
        "* Give the path of model file to download through the browser"
      ]
    },
    {
      "cell_type": "code",
      "metadata": {
        "id": "BDmWXfPaHJZG",
        "colab": {
          "base_uri": "https://localhost:8080/",
          "height": 17
        },
        "outputId": "97383a24-f1d2-40af-e9ad-24f178c96782"
      },
      "source": [
        "from google.colab import files\n",
        "files.download('/content/studio_model.pth')"
      ],
      "execution_count": null,
      "outputs": [
        {
          "output_type": "display_data",
          "data": {
            "text/plain": [
              "<IPython.core.display.Javascript object>"
            ],
            "application/javascript": [
              "\n",
              "    async function download(id, filename, size) {\n",
              "      if (!google.colab.kernel.accessAllowed) {\n",
              "        return;\n",
              "      }\n",
              "      const div = document.createElement('div');\n",
              "      const label = document.createElement('label');\n",
              "      label.textContent = `Downloading \"${filename}\": `;\n",
              "      div.appendChild(label);\n",
              "      const progress = document.createElement('progress');\n",
              "      progress.max = size;\n",
              "      div.appendChild(progress);\n",
              "      document.body.appendChild(div);\n",
              "\n",
              "      const buffers = [];\n",
              "      let downloaded = 0;\n",
              "\n",
              "      const channel = await google.colab.kernel.comms.open(id);\n",
              "      // Send a message to notify the kernel that we're ready.\n",
              "      channel.send({})\n",
              "\n",
              "      for await (const message of channel.messages) {\n",
              "        // Send a message to notify the kernel that we're ready.\n",
              "        channel.send({})\n",
              "        if (message.buffers) {\n",
              "          for (const buffer of message.buffers) {\n",
              "            buffers.push(buffer);\n",
              "            downloaded += buffer.byteLength;\n",
              "            progress.value = downloaded;\n",
              "          }\n",
              "        }\n",
              "      }\n",
              "      const blob = new Blob(buffers, {type: 'application/binary'});\n",
              "      const a = document.createElement('a');\n",
              "      a.href = window.URL.createObjectURL(blob);\n",
              "      a.download = filename;\n",
              "      div.appendChild(a);\n",
              "      a.click();\n",
              "      div.remove();\n",
              "    }\n",
              "  "
            ]
          },
          "metadata": {}
        },
        {
          "output_type": "display_data",
          "data": {
            "text/plain": [
              "<IPython.core.display.Javascript object>"
            ],
            "application/javascript": [
              "download(\"download_ac45f1b3-6787-4bff-a39a-3ab2b97b0b9a\", \"studio_model.pth\", 2798680)"
            ]
          },
          "metadata": {}
        }
      ]
    },
    {
      "cell_type": "markdown",
      "metadata": {
        "id": "Hl3Ins3vSTQx"
      },
      "source": [
        "### f) Deploy and evaluate your model trained on Studio Data in the server (6 Marks).\n",
        "\n",
        "(This can be done on the day of the Hackathon once the login username and password provided by the mentors in the lab)\n",
        "\n",
        "Deploy your model on the server, check the hackathon document (2-Server Access and File transfer For Voice based e-commerce ordering.pdf) for details.\n",
        "\n",
        "To order product in user interface, go through the document (3-Hackathon_II Application Interface Documentation.pdf) for details.\n",
        "\n",
        "\n",
        "**Evaluation Criteria: Four consecutive utterances should be predicted correctly by the model**\n",
        "\n",
        "- There are two stages in the e-commerce ordering application    \n",
        "    - Ordering Product\n",
        "    - Selecting the e-commerce platform\n",
        "- If both the stages are cleared as per the evaluation criteria you will get\n",
        "complete marks Otherwise, you will see a reduction in the marks"
      ]
    },
    {
      "cell_type": "markdown",
      "metadata": {
        "id": "GIXBC0aYKhKX"
      },
      "source": [
        "## **Stage 2:** Collect your voice samples and refine the classifier trained on studio_data and Team_data\n",
        "---"
      ]
    },
    {
      "cell_type": "markdown",
      "metadata": {
        "id": "pmSoJN11_kMR"
      },
      "source": [
        "### a) Collect your Team Voice Samples and extract features (6 Marks)\n",
        "\n",
        "(This can be done on the day of the Hackathon once the login username and password is given by mentors in the lab)\n",
        "\n",
        "* In order to collect the team data, ensure the server is active (2-Server Access and File transfer For Voice based e-commerce ordering.pdf)\n",
        "\n",
        "* Refer document \"3-Hackathon_II Application Interface Documentation.pdf\" for collecting your team voice samples. These will get stored in your server\n",
        "\n",
        "**Evaluation Criteria:**\n",
        "* Load 'Team_data' and extract features\n",
        "* Combine features of team data with the extracted features of studio data\n",
        "* Split the combined features into train and test data\n",
        "* Load the dataset with DataLoader"
      ]
    },
    {
      "cell_type": "code",
      "metadata": {
        "id": "nv3I24flWlLq"
      },
      "source": [
        "!mkdir team_data"
      ],
      "execution_count": null,
      "outputs": []
    },
    {
      "cell_type": "code",
      "metadata": {
        "id": "gB_bSllKWJ5U",
        "colab": {
          "base_uri": "https://localhost:8080/"
        },
        "outputId": "bcdfa24c-bac9-4be0-e7d6-d6184941668b"
      },
      "source": [
        "# Replace <YOUR_GROUP_ID> with your Username given in the lab\n",
        "!wget -r -A .wav https://aiml-sandbox1.talentsprint.com/audio_recorder/<YOUR_GROUP_ID>/team_data/ -nH --cut-dirs=100  -P ./team_data"
      ],
      "execution_count": null,
      "outputs": [
        {
          "output_type": "stream",
          "name": "stdout",
          "text": [
            "/bin/bash: line 1: YOUR_GROUP_ID: No such file or directory\n"
          ]
        }
      ]
    },
    {
      "cell_type": "code",
      "metadata": {
        "id": "2G17PFkgI02J"
      },
      "source": [
        "# YOUR CODE HERE to Load data from teamdata folder for extracting all features and labels"
      ],
      "execution_count": null,
      "outputs": []
    },
    {
      "cell_type": "code",
      "metadata": {
        "id": "G_sh6DCbJKhg"
      },
      "source": [
        "# Combine the features of all voice samples (studio_data and teamdata)\n",
        "# YOUR CODE HERE"
      ],
      "execution_count": null,
      "outputs": []
    },
    {
      "cell_type": "code",
      "metadata": {
        "id": "UcSfoU9hyst4"
      },
      "source": [
        "# YOUR CODE HERE to split the combined features into train and test data (Hint: Use train_test_split)"
      ],
      "execution_count": null,
      "outputs": []
    },
    {
      "cell_type": "code",
      "metadata": {
        "id": "SQ8gSTYg1dSp"
      },
      "source": [
        "# YOUR CODE HERE to load the dataset with DataLoader"
      ],
      "execution_count": null,
      "outputs": []
    },
    {
      "cell_type": "markdown",
      "metadata": {
        "id": "pSE9E9mDF7Az"
      },
      "source": [
        "### b) Classify and download the model (6 Marks)\n",
        "\n",
        "The goal here is to train and test your model on all voice samples collected in studio and team data\n",
        "\n",
        "**Evaluation Criteria:**\n",
        "* Refine your classifier (if needed)\n",
        "* Train your model on the extracted train data\n",
        "* Test your model on the extracted test data\n",
        "* Save and download the trained model\n",
        "\n",
        "### **Expected testing accuracy is above 80%**"
      ]
    },
    {
      "cell_type": "code",
      "metadata": {
        "id": "D1EtSEwDG-q4"
      },
      "source": [
        "# YOUR CODE HERE for refining your classifier (if needed)"
      ],
      "execution_count": null,
      "outputs": []
    },
    {
      "cell_type": "code",
      "metadata": {
        "id": "Nz0UbGJrz59Z"
      },
      "source": [
        "# YOUR CODE HERE to train your model\n",
        "\n",
        "# Record loss and accuracy of the train dataset"
      ],
      "execution_count": null,
      "outputs": []
    },
    {
      "cell_type": "code",
      "metadata": {
        "id": "8CkqFppJ0Fha"
      },
      "source": [
        "# YOUR CODE HERE to test your model"
      ],
      "execution_count": null,
      "outputs": []
    },
    {
      "cell_type": "markdown",
      "metadata": {
        "id": "snSilDehQcKv"
      },
      "source": [
        "**Save your trained model**\n",
        "\n",
        "* Save the state dictionary of the classifier (use pytorch only), It will be useful in\n",
        "integrating model to the web application\n",
        "\n",
        " [Hint](https://pytorch.org/tutorials/beginner/saving_loading_models.html)"
      ]
    },
    {
      "cell_type": "code",
      "metadata": {
        "id": "HGiaYmCnQcKz"
      },
      "source": [
        "### YOUR CODE HERE for saving the CNN model\n",
        "torch.save(model.state_dict(), 'my_model.pth')"
      ],
      "execution_count": null,
      "outputs": []
    },
    {
      "cell_type": "markdown",
      "metadata": {
        "id": "7TSFyHRFQcK1"
      },
      "source": [
        "Download your trained model using the code below\n",
        "* Give the path of model file to download through the browser"
      ]
    },
    {
      "cell_type": "code",
      "metadata": {
        "id": "dF2kGMjAQcK2",
        "colab": {
          "base_uri": "https://localhost:8080/",
          "height": 17
        },
        "outputId": "05dabbe2-47e6-4cb6-ec71-2782572403a6"
      },
      "source": [
        "from google.colab import files\n",
        "files.download('/content/my_model.pth')"
      ],
      "execution_count": null,
      "outputs": [
        {
          "output_type": "display_data",
          "data": {
            "text/plain": [
              "<IPython.core.display.Javascript object>"
            ],
            "application/javascript": [
              "\n",
              "    async function download(id, filename, size) {\n",
              "      if (!google.colab.kernel.accessAllowed) {\n",
              "        return;\n",
              "      }\n",
              "      const div = document.createElement('div');\n",
              "      const label = document.createElement('label');\n",
              "      label.textContent = `Downloading \"${filename}\": `;\n",
              "      div.appendChild(label);\n",
              "      const progress = document.createElement('progress');\n",
              "      progress.max = size;\n",
              "      div.appendChild(progress);\n",
              "      document.body.appendChild(div);\n",
              "\n",
              "      const buffers = [];\n",
              "      let downloaded = 0;\n",
              "\n",
              "      const channel = await google.colab.kernel.comms.open(id);\n",
              "      // Send a message to notify the kernel that we're ready.\n",
              "      channel.send({})\n",
              "\n",
              "      for await (const message of channel.messages) {\n",
              "        // Send a message to notify the kernel that we're ready.\n",
              "        channel.send({})\n",
              "        if (message.buffers) {\n",
              "          for (const buffer of message.buffers) {\n",
              "            buffers.push(buffer);\n",
              "            downloaded += buffer.byteLength;\n",
              "            progress.value = downloaded;\n",
              "          }\n",
              "        }\n",
              "      }\n",
              "      const blob = new Blob(buffers, {type: 'application/binary'});\n",
              "      const a = document.createElement('a');\n",
              "      a.href = window.URL.createObjectURL(blob);\n",
              "      a.download = filename;\n",
              "      div.appendChild(a);\n",
              "      a.click();\n",
              "      div.remove();\n",
              "    }\n",
              "  "
            ]
          },
          "metadata": {}
        },
        {
          "output_type": "display_data",
          "data": {
            "text/plain": [
              "<IPython.core.display.Javascript object>"
            ],
            "application/javascript": [
              "download(\"download_6168a1b9-878a-49f0-a94d-ca049c17cdec\", \"my_model.pth\", 2798572)"
            ]
          },
          "metadata": {}
        }
      ]
    },
    {
      "cell_type": "markdown",
      "metadata": {
        "id": "AfhmbXkFx6is"
      },
      "source": [
        "### c) Deploy and evaluate your model trained on Studio Data + Team Data in the server (6 Marks).\n",
        "\n",
        "(This can be done on the day of the Hackathon once the login username and password provided by the mentors in the lab)\n",
        "\n",
        "Deploy your model on the server, check the hackathon document (2-Server Access and File transfer For Voice based e-commerce ordering.pdf) for details.\n",
        "\n",
        "To order product in user interface, go through the document (3-Hackathon_II Application Interface Documentation.pdf) for details.\n",
        "\n",
        "\n",
        "**Evaluation Criteria: Four consecutive utterances should be predicted correctly by the model**\n",
        "\n",
        "- There are two stages in the e-commerce ordering application    \n",
        "    - Ordering Product\n",
        "    - Selecting the e-commerce platform\n",
        "- If both the stages are cleared as per the evaluation criteria you will get\n",
        "complete marks Otherwise, you will see a reduction in the marks"
      ]
    },
    {
      "cell_type": "code",
      "metadata": {
        "id": "4kIo3R5hQnrh"
      },
      "source": [],
      "execution_count": null,
      "outputs": []
    }
  ]
}